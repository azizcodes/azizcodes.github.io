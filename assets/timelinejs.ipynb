{
 "cells": [
  {
   "cell_type": "markdown",
   "metadata": {},
   "source": [
    "# Timelinejs - Inspecting a json\n",
    "For the purpose of using Timelinejs. \n",
    "\n",
    "The json specifications are [given here](https://timeline.knightlab.com/docs/json-format.html).\n",
    "\n",
    "## Women in Computing Spreadsheet\n",
    "First I tried parsing the Google spreadsheet. It looks nothing like the specifications. As you can see below"
   ]
  },
  {
   "cell_type": "code",
   "execution_count": 38,
   "metadata": {},
   "outputs": [
    {
     "data": {
      "text/html": [
       "<div>\n",
       "<style scoped>\n",
       "    .dataframe tbody tr th:only-of-type {\n",
       "        vertical-align: middle;\n",
       "    }\n",
       "\n",
       "    .dataframe tbody tr th {\n",
       "        vertical-align: top;\n",
       "    }\n",
       "\n",
       "    .dataframe thead th {\n",
       "        text-align: right;\n",
       "    }\n",
       "</style>\n",
       "<table border=\"1\" class=\"dataframe\">\n",
       "  <thead>\n",
       "    <tr style=\"text-align: right;\">\n",
       "      <th></th>\n",
       "      <th>Year</th>\n",
       "      <th>Month</th>\n",
       "      <th>Day</th>\n",
       "      <th>Time</th>\n",
       "      <th>End Year</th>\n",
       "      <th>End Month</th>\n",
       "      <th>End Day</th>\n",
       "      <th>End Time</th>\n",
       "      <th>Display Date</th>\n",
       "      <th>Headline</th>\n",
       "      <th>Text</th>\n",
       "      <th>Media</th>\n",
       "      <th>Media Credit</th>\n",
       "      <th>Media Caption</th>\n",
       "      <th>Media Thumbnail</th>\n",
       "      <th>Type</th>\n",
       "      <th>Group</th>\n",
       "      <th>Background</th>\n",
       "    </tr>\n",
       "  </thead>\n",
       "  <tbody>\n",
       "    <tr>\n",
       "      <th>0</th>\n",
       "      <td>NaN</td>\n",
       "      <td>NaN</td>\n",
       "      <td>NaN</td>\n",
       "      <td>NaN</td>\n",
       "      <td>NaN</td>\n",
       "      <td>NaN</td>\n",
       "      <td>NaN</td>\n",
       "      <td>NaN</td>\n",
       "      <td>NaN</td>\n",
       "      <td>Women in Computing</td>\n",
       "      <td>&lt;p class=\"lead\"&gt;In this sample timeline, we’ll...</td>\n",
       "      <td>NaN</td>\n",
       "      <td>NaN</td>\n",
       "      <td>NaN</td>\n",
       "      <td>NaN</td>\n",
       "      <td>title</td>\n",
       "      <td>NaN</td>\n",
       "      <td>https://upload.wikimedia.org/wikipedia/commons...</td>\n",
       "    </tr>\n",
       "    <tr>\n",
       "      <th>1</th>\n",
       "      <td>1815.0</td>\n",
       "      <td>12.0</td>\n",
       "      <td>10.0</td>\n",
       "      <td>NaN</td>\n",
       "      <td>1852.0</td>\n",
       "      <td>11.0</td>\n",
       "      <td>27.0</td>\n",
       "      <td>NaN</td>\n",
       "      <td>NaN</td>\n",
       "      <td>Ada Lovelace</td>\n",
       "      <td>&lt;p&gt;Women have been programming since before it...</td>\n",
       "      <td>https://upload.wikimedia.org/wikipedia/commons...</td>\n",
       "      <td>Wikimedia Commons</td>\n",
       "      <td>&lt;a href=\"https://en.wikipedia.org/wiki/Ada_Lov...</td>\n",
       "      <td>NaN</td>\n",
       "      <td>NaN</td>\n",
       "      <td>NaN</td>\n",
       "      <td>NaN</td>\n",
       "    </tr>\n",
       "    <tr>\n",
       "      <th>2</th>\n",
       "      <td>1948.0</td>\n",
       "      <td>3.0</td>\n",
       "      <td>14.0</td>\n",
       "      <td>NaN</td>\n",
       "      <td>NaN</td>\n",
       "      <td>NaN</td>\n",
       "      <td>NaN</td>\n",
       "      <td>NaN</td>\n",
       "      <td>NaN</td>\n",
       "      <td>Edith Clarke: Bucking the Trend</td>\n",
       "      <td>NaN</td>\n",
       "      <td>&lt;blockquote&gt;There is no demand for women engin...</td>\n",
       "      <td>NaN</td>\n",
       "      <td>NaN</td>\n",
       "      <td>NaN</td>\n",
       "      <td>NaN</td>\n",
       "      <td>NaN</td>\n",
       "      <td>NaN</td>\n",
       "    </tr>\n",
       "    <tr>\n",
       "      <th>3</th>\n",
       "      <td>1943.0</td>\n",
       "      <td>7.0</td>\n",
       "      <td>NaN</td>\n",
       "      <td>NaN</td>\n",
       "      <td>1946.0</td>\n",
       "      <td>NaN</td>\n",
       "      <td>NaN</td>\n",
       "      <td>NaN</td>\n",
       "      <td>NaN</td>\n",
       "      <td>...And the women who made it work</td>\n",
       "      <td>&lt;p&gt;The ENIAC programmers included a number of ...</td>\n",
       "      <td>https://www.youtube.com/watch?v=aPweFhhXFvY</td>\n",
       "      <td>&lt;a href=\"https://www.youtube.com/channel/UCHDr...</td>\n",
       "      <td>Jean Bartik talks about the ENIAC women</td>\n",
       "      <td>NaN</td>\n",
       "      <td>NaN</td>\n",
       "      <td>NaN</td>\n",
       "      <td>https://upload.wikimedia.org/wikipedia/commons...</td>\n",
       "    </tr>\n",
       "    <tr>\n",
       "      <th>4</th>\n",
       "      <td>1943.0</td>\n",
       "      <td>6.0</td>\n",
       "      <td>5.0</td>\n",
       "      <td>NaN</td>\n",
       "      <td>NaN</td>\n",
       "      <td>NaN</td>\n",
       "      <td>NaN</td>\n",
       "      <td>NaN</td>\n",
       "      <td>NaN</td>\n",
       "      <td>The First Computer</td>\n",
       "      <td>Code named \"Project PX\" and funded by the Unit...</td>\n",
       "      <td>https://www.google.com/maps/place/University+o...</td>\n",
       "      <td>NaN</td>\n",
       "      <td>NaN</td>\n",
       "      <td>NaN</td>\n",
       "      <td>NaN</td>\n",
       "      <td>NaN</td>\n",
       "      <td>NaN</td>\n",
       "    </tr>\n",
       "  </tbody>\n",
       "</table>\n",
       "</div>"
      ],
      "text/plain": [
       "     Year                        ...                                                                 Background\n",
       "0     NaN                        ...                          https://upload.wikimedia.org/wikipedia/commons...\n",
       "1  1815.0                        ...                                                                        NaN\n",
       "2  1948.0                        ...                                                                        NaN\n",
       "3  1943.0                        ...                          https://upload.wikimedia.org/wikipedia/commons...\n",
       "4  1943.0                        ...                                                                        NaN\n",
       "\n",
       "[5 rows x 18 columns]"
      ]
     },
     "execution_count": 38,
     "metadata": {},
     "output_type": "execute_result"
    }
   ],
   "source": [
    "import pandas as pd\n",
    "from pandas import Series, DataFrame\n",
    "a=pd.read_excel('wm.xlsx')\n",
    "a.head()"
   ]
  },
  {
   "cell_type": "code",
   "execution_count": 39,
   "metadata": {},
   "outputs": [
    {
     "name": "stdout",
     "output_type": "stream",
     "text": [
      "{\"Year\":{\"0\":null,\"1\":1815.0,\"2\":1948.0,\"3\":1943.0,\"4\":1943.0,\"5\":1951.0,\"6\":1952.0,\"7\":1956.0,\"8\":1958.0,\"9\":1972.0,\"10\":1985.0},\"Month\":{\"0\":null,\"1\":12.0,\"2\":3.0,\"3\":7.0,\"4\":6.0,\"5\":null,\"6\":null,\"7\":null,\"8\":null,\"9\":null,\"10\":null},\"Day\":{\"0\":null,\"1\":10.0,\"2\":14.0,\"3\":null,\"4\":5.0,\"5\":null,\"6\":null,\"7\":null,\"8\":null,\"9\":null,\"10\":null},\"Time\":{\"0\":null,\"1\":null,\"2\":null,\"3\":null,\"4\":null,\"5\":null,\"6\":null,\"7\":null,\"8\":null,\"9\":null,\"10\":null},\"End Year\":{\"0\":null,\"1\":1852.0,\"2\":null,\"3\":1946.0,\"4\":null,\"5\":null,\"6\":null,\"7\":1962.0,\"8\":null,\"9\":null,\"10\":null},\"End Month\":{\"0\":null,\"1\":11.0,\"2\":null,\"3\":null,\"4\":null,\"5\":null,\"6\":null,\"7\":null,\"8\":null,\"9\":null,\"10\":null},\"End Day\":{\"0\":null,\"1\":27.0,\"2\":null,\"3\":null,\"4\":null,\"5\":null,\"6\":null,\"7\":null,\"8\":null,\"9\":null,\"10\":null},\"End Time\":{\"0\":null,\"1\":null,\"2\":null,\"3\":null,\"4\":null,\"5\":null,\"6\":null,\"7\":null,\"8\":null,\"9\":null,\"10\":null},\"Display Date\":{\"0\":null,\"1\":null,\"2\":null,\"3\":null,\"4\":null,\"5\":null,\"6\":null,\"7\":null,\"8\":null,\"9\":null,\"10\":null},\"Headline\":{\"0\":\"Women in Computing\",\"1\":\"Ada Lovelace\",\"2\":\"Edith Clarke: Bucking the Trend\",\"3\":\"...And the women who made it work\",\"4\":\"The First Computer\",\"5\":\"R\\u00f3zsa P\\u00e9ter writes recursion\",\"6\":\"Grace Hopper invents the compiler\",\"7\":\"Contributions to space exploration\",\"8\":\"The First PhD in Computer Science\",\"9\":\"Karen Sp\\u00e4rck Jones makes search possible\",\"10\":\"\\\"The Mother of the Internet\\\"\"},\"Text\":{\"0\":\"<p class=\\\"lead\\\">In this sample timeline, we\\u2019ll walk you through what TimelineJS can do by looking at some of the more important contributions women have made to computer science.<\\/p>\",\"1\":\"<p>Women have been programming since before it was a thing. Take <a href=\\\"https:\\/\\/en.wikipedia.org\\/wiki\\/Ada_Lovelace\\\">Ada Lovelace<\\/a>: Daughter of Lord Byron, she's often credited as the first computer programmer. Her work on <a href=\\\"https:\\/\\/en.wikipedia.org\\/wiki\\/Analytical_Engine\\\">Charles Babbage's Analytical Engine<\\/a> contains notes of the first machine-implemented algorithm.<\\/p><span class=\\\"tl-note\\\">This slide demonstrates a simple \\\"image\\\" media type.<\\/span>\",\"2\":null,\"3\":\"<p>The ENIAC programmers included a number of women: Jean Bartik, Marlyn Wescoff Meltzer, Ruth Lichterman Teitelbaum, Kay McNulty Mauchly Antonelli, Frances Spence, and Frances Elizabeth \\\"Betty\\\" Holberton. Despite their groundbreaking work, the Army never released the names of the women who worked on the ENIAC, and they were largely forgotten until Kathy Kleiman discovered their story in 1985.<\\/p> <span class=\\\"tl-note\\\">You can add a YouTube URL like this video on the ENIAC Women.\\n.<\\/span>\",\"4\":\"Code named \\\"Project PX\\\" and funded by the United States Army, the first general-purpose computer was the Electronic Numerical Integrator And Computer (ENIAC). It was developed at the University of Pennsylvania's Moore School of Electrical Engineering. \\n<p><span class=\\\"tl-note\\\">Timeline can easily embed Google Maps<\\/span>\",\"5\":\"<p>Hungarian-born R\\u00f3zsa P\\u00e9ter studied number theory and poetry before becoming interested in the idea that would become recursion theory. She published her paper \\\"Recursive Functions\\\" in 1951, but it wasn't until the mid-50's that she began to apply her work to the realm of computers. <\\/p><span class=\\\"tl-note\\\">This excerpt is embedded from Wikipedia. Just include the URL to the Wikipedia article.<\\/span>\",\"6\":\"<p>In her career with the Navy, Rear Admiral Grace Hopper worked on the first commercial computer (UNIVAC) and laid the groundwork for the programming language COBOL. But her most notable invention was the compiler, which can transform a source language into binary code. (In other words, it can translate the code you and I write into 0s and 1s.) She developed it in 1952, but she said \\\"Nobody would touch it. They told me computers could only do arithmetic.\\\"<\\/p><span class=\\\"tl-note\\\">Embed soundclips from Soundcloud.<\\/span>\",\"7\":\"One of the first African-American women to earn a Ph.D in mathematics, Evelyn Boyd Granville focused on aeronautics and space during her career. In 1956, she worked with NASA and IBM on Project Mercury, the first manned space flight. She worked with NASA again a few years later on the Apollo Project.\",\"8\":\"One of the first women (if not the first woman) to earn a Ph.D in computer science, Sister Mary Kenneth Keller also contributed to the development of the BASIC language during her time at Dartmouth College. She then founded the computer science department at Clarke College and directed it for the next 20 years.\",\"9\":\"A professor at Cambridge Computer Laborotory, Sp\\u00e4rck Jones was interested in natural language processing and information retrieval. In 1972, she introduced the concept of inverse document frequency, which most search engines still rely on.\",\"10\":\"Often called \\\"the Mother of the Internet,\\\" Radia Perlman's work on spanning tree protocol enabled the development of modern networking. She holds more than 100 patents, which is what mothers do best.\"},\"Media\":{\"0\":null,\"1\":\"https:\\/\\/upload.wikimedia.org\\/wikipedia\\/commons\\/thumb\\/a\\/a4\\/Ada_Lovelace_portrait.jpg\\/713px-Ada_Lovelace_portrait.jpg\",\"2\":\"<blockquote>There is no demand for women engineers, as such, as there are for women doctors; but there's always a demand for anyone who can do a good piece of work. <cite>Edith Clarke, first female professor of electrical engineering in the United States<\\/cite><\\/blockquote>\",\"3\":\"https:\\/\\/www.youtube.com\\/watch?v=aPweFhhXFvY\",\"4\":\"https:\\/\\/www.google.com\\/maps\\/place\\/University+of+Pennsylvania\\/@39.9522188,-75.1932137,17z\\/data=!3m1!4b1!4m2!3m1!1s0x89c6c65a7f3bccc1:0x9eaa6a2b2d6fe94\",\"5\":\"https:\\/\\/en.wikipedia.org\\/wiki\\/Reduction_(recursion_theory)\",\"6\":\"https:\\/\\/soundcloud.com\\/obamawhitehouse\\/grace-hopper-as-told-by-u-s\",\"7\":\"https:\\/\\/www.youtube.com\\/watch?v=w9ZpCu8Gu9E\",\"8\":\"https:\\/\\/www.women.cs.cmu.edu\\/ada\\/Resources\\/Women\\/pictures\\/mary_keller.png\",\"9\":\"https:\\/\\/www.youtube.com\\/watch?v=4-DyVzj-f3c\",\"10\":\"https:\\/\\/www.youtube.com\\/watch?v=I7FYG-XVgk4\"},\"Media Credit\":{\"0\":null,\"1\":\"Wikimedia Commons\",\"2\":null,\"3\":\"<a href=\\\"https:\\/\\/www.youtube.com\\/channel\\/UCHDr4RtxwA1KqKGwxgdK4Vg\\\">Computer History Museum<\\/a>\",\"4\":null,\"5\":\"Wikipedia\",\"6\":\"The White House\",\"7\":\"National Archives\",\"8\":\"The Ada Project\",\"9\":\"BCS Karen Sparck Jones Lecture\",\"10\":\"Imagining the Internet\"},\"Media Caption\":{\"0\":null,\"1\":\"<a href=\\\"https:\\/\\/en.wikipedia.org\\/wiki\\/Ada_Lovelace#\\/media\\/File:Ada_Lovelace_portrait.jpg\\\" title=\\\"\\\">Portrait by Alfred Edward Chalon<\\/a>\",\"2\":null,\"3\":\"Jean Bartik talks about the ENIAC women\",\"4\":null,\"5\":null,\"6\":\"US Chief Technology Officer Megan Smith talks about Grace Hopper.\",\"7\":\"Newsreel of the first Project Mercury launch.\",\"8\":null,\"9\":\"\\\"How to enjoy a career in computing: the power of networks,\\\" Professor Dame Wendy Hall\",\"10\":\"Radia Perlman's acceptance speech at being inducted into the Internet Hall of Fame.\"},\"Media Thumbnail\":{\"0\":null,\"1\":null,\"2\":null,\"3\":null,\"4\":null,\"5\":null,\"6\":null,\"7\":null,\"8\":null,\"9\":null,\"10\":null},\"Type\":{\"0\":\"title\",\"1\":null,\"2\":null,\"3\":null,\"4\":null,\"5\":null,\"6\":null,\"7\":null,\"8\":null,\"9\":null,\"10\":null},\"Group\":{\"0\":null,\"1\":null,\"2\":null,\"3\":null,\"4\":null,\"5\":null,\"6\":null,\"7\":null,\"8\":null,\"9\":null,\"10\":null},\"Background\":{\"0\":\"https:\\/\\/upload.wikimedia.org\\/wikipedia\\/commons\\/1\\/17\\/World%27s_First_Computer%2C_the_Electronic_Numerical_Integrator_and_Calculator_%28ENIAC%29.gif\",\"1\":null,\"2\":null,\"3\":\"https:\\/\\/upload.wikimedia.org\\/wikipedia\\/commons\\/c\\/cd\\/ARL_ENIAC_02.png\",\"4\":null,\"5\":null,\"6\":null,\"7\":null,\"8\":null,\"9\":null,\"10\":null}}\n"
     ]
    }
   ],
   "source": [
    "print(a.to_json())"
   ]
  },
  {
   "cell_type": "markdown",
   "metadata": {},
   "source": [
    "## Whitney Houston\n",
    "So I am trying the Whitney Houston example. Which is a json file according to specifications. I was not able to read it with pandas so I am trying the json module."
   ]
  },
  {
   "cell_type": "code",
   "execution_count": 40,
   "metadata": {},
   "outputs": [],
   "source": [
    "import json\n",
    "with open('wh.json') as f:\n",
    "    b=json.load(f)"
   ]
  },
  {
   "cell_type": "code",
   "execution_count": 45,
   "metadata": {},
   "outputs": [
    {
     "data": {
      "text/plain": [
       "{'events': [{'media': {'caption': \"Houston's mother and Gospel singer, Cissy Houston (left) and cousin Dionne Warwick.\",\n",
       "    'credit': \"Cissy Houston photo:<a href='http://www.flickr.com/photos/11447043@N00/418180903/'>Tom Marcello</a><br/><a href='http://commons.wikimedia.org/wiki/File%3ADionne_Warwick_television_special_1969.JPG'>Dionne Warwick: CBS Television via Wikimedia Commons</a>\",\n",
       "    'url': '{{ static_url }}/img/examples/houston/family.jpg'},\n",
       "   'start_date': {'day': '9', 'month': '8', 'year': '1963'},\n",
       "   'text': {'headline': 'A Musical Heritage',\n",
       "    'text': '<p>Born in New Jersey on August 9th, 1963, Houston grew up surrounded by the music business. Her mother is gospel singer Cissy Houston and her cousins are Dee Dee and Dionne Warwick.</p>'}},\n",
       "  {'media': {'caption': '',\n",
       "    'credit': '<a href=\"http://unidiscmusic.com\">Unidisc Music</a>',\n",
       "    'url': 'https://youtu.be/fSrO91XO1Ck'},\n",
       "   'start_date': {'year': '1978'},\n",
       "   'text': {'headline': 'First Recording',\n",
       "    'text': \"At the age of 15 Houston was featured on Michael Zager's song, Life's a Party.\"}},\n",
       "  {'media': {'caption': 'A young poised Whitney Houston in an interview with EbonyJet.',\n",
       "    'credit': 'EbonyJet',\n",
       "    'url': 'https://youtu.be/_gvJCCZzmro'},\n",
       "   'start_date': {'year': '1978'},\n",
       "   'text': {'headline': 'The Early Years',\n",
       "    'text': \"As a teen Houston's credits include background vocals for Jermaine Jackson, Lou Rawls and the Neville Brothers. She also sang on Chaka Khan's, 'I'm Every Woman,' a song which she later remade for the <i>Bodyguard</i> soundtrack which is the biggest selling soundtrack of all time. It sold over 42 million copies worldwide.\"}},\n",
       "  {'media': {'caption': \"I'm Every Women as performed by Whitney Houston.\",\n",
       "    'credit': 'Arista Records',\n",
       "    'url': 'https://youtu.be/H7_sqdkaAfo'},\n",
       "   'start_date': {'year': '1978'},\n",
       "   'text': {'headline': 'Early Album Credits',\n",
       "    'text': \"As a teen Houston's credits include background vocals for Jermaine Jackson, Lou Rawls and the Neville Brothers. She also sang on Chaka Khan's, 'I'm Every Woman,' a song which she later remade for the <i>Bodyguard</i> soundtrack which is the biggest selling soundtrack of all time. It sold over 42 million copies worldwide.\"}},\n",
       "  {'media': {'caption': 'Whitney Houston and Clive Davis discussing her discovery and her eponymous first album.',\n",
       "    'credit': 'Sony Music Entertainment',\n",
       "    'url': 'https://youtu.be/A4jGzNm2yPI'},\n",
       "   'start_date': {'year': '1983'},\n",
       "   'text': {'headline': 'Signed',\n",
       "    'text': 'Houston is signed to Arista Records after exec Clive Davis sees her performing on stage with her mother in New York.'}},\n",
       "  {'media': {'caption': \"The 'How Will I Know' video showcases the youthful energy that boosted Houston to stardom.\",\n",
       "    'credit': 'Arista Records Inc.',\n",
       "    'url': 'https://youtu.be/m3-hY-hlhBg'},\n",
       "   'start_date': {'year': '1985'},\n",
       "   'text': {'headline': 'Debut',\n",
       "    'text': \"Whitney Houston's self titled first release sold over 12 million copies in the U.S. and included the hit singles 'How Will I Know,' 'You Give Good Love,' 'Saving All My Love For You' and 'Greatest Love of All.'\"}},\n",
       "  {'media': {'caption': 'Dionne Warwick gleefully announces cousin, Whitney Houston, the winner of the Best Female Pop Vocal Performance for the song Saving All My Love.',\n",
       "    'credit': \"<a href='http://grammy.org'>The Recording Academy</a>\",\n",
       "    'url': 'https://youtu.be/v0XuiMX1XHg'},\n",
       "   'start_date': {'year': '1986'},\n",
       "   'text': {'headline': \"'The Grammys'\",\n",
       "    'text': \"In 1986 Houston won her first Grammy for the song Saving All My Love. In total she has won six Grammys, the last of which she won in 1999 for It's Not Right But It's Okay.\"}},\n",
       "  {'media': {'caption': 'I Wanna Dance With Somebody',\n",
       "    'credit': 'Arista Records Inc.',\n",
       "    'url': 'https://youtu.be/eH3giaIzONA'},\n",
       "   'start_date': {'year': '1987'},\n",
       "   'text': {'headline': \"'Whitney'\",\n",
       "    'text': 'Multiplatinum second album sells more than 20 million copies worldwide. With \\'Whitney\\', Houston became the first female artist to produce four number 1 singles on one album including \"I Wanna Dance With Somebody,\\' \\'Didn\\'t We Almost Have It All,\\' \\'So Emotional\\' and \\'Where Do Broken Hearts Go.\\''}},\n",
       "  {'media': {'caption': '\"One Moment In Time\" - Theme song to the 1988 Seoul Olympics',\n",
       "    'credit': 'Arista Records Inc.',\n",
       "    'url': 'https://youtu.be/96aAx0kxVSA'},\n",
       "   'start_date': {'year': '1988'},\n",
       "   'text': {'headline': '\"One Moment In Time\"',\n",
       "    'text': \"The artist's fame continues to skyrocket as she records the theme song for the Seoul Olympics, 'One Moment In Time.'\"}},\n",
       "  {'media': {'caption': '', 'credit': '', 'url': ''},\n",
       "   'start_date': {'year': '1989'},\n",
       "   'text': {'headline': 'Bobby Brown',\n",
       "    'text': \"Houston and Brown first meet at the Soul Train Music Awards. In an interview with Rolling Stone Magazine, Houston admitted that it was not love at first sight. She turned down Brown's first marriage proposal but eventually fell in love with him.\"}},\n",
       "  {'media': {'caption': \"CNN looks back at Houston's iconic performance of the national anthem at Superbowl XXV.\",\n",
       "    'credit': 'CNN',\n",
       "    'url': 'https://youtu.be/5Fa09teeaqs'},\n",
       "   'start_date': {'year': '1991'},\n",
       "   'text': {'headline': 'Super Bowl',\n",
       "    'text': \"Houston's national anthem performance captures the hearts and minds of Americans ralllying behind soldiers in the Persian Guf War.\"}},\n",
       "  {'media': {'caption': '\"Run To You\" from the 1992 \"Bodyguard\" soundtrack..',\n",
       "    'credit': 'Arista Records',\n",
       "    'url': 'https://youtu.be/h9rCobRl-ng'},\n",
       "   'start_date': {'year': '1992'},\n",
       "   'text': {'headline': '\"The Bodyguard\"',\n",
       "    'text': \"Houston starred opposite Kevin Costner in the box office hit, The Bodyguard. The soundtrack to the movie sold over 44 million copies worldwide  garnering 3 Grammy's for the artist.\"}},\n",
       "  {'media': {'caption': 'Bobby Brown performing \"My Prerogrative,\" from his \"Don\\'t be Cruel\" solo album. Bobby Brown first became famous with the R&B group, New Edition.',\n",
       "    'credit': '',\n",
       "    'url': 'https://youtu.be/5cDLZqe735k'},\n",
       "   'start_date': {'year': '1992'},\n",
       "   'text': {'headline': 'Married Life',\n",
       "    'text': '<p>After three years of courtship, Houston marries New Edition singer Bobby Brown. Their only child Bobbi Kristina Brown was born in 1993.</p><p>In 2003 Brown was charged with domestic violence after police responded to a domestic violence call. Houston and Brown were featured in the reality show, \"Being bobby Brown,\" and divorced in 2007.</p>'}},\n",
       "  {'media': {'caption': 'Diane Sawyer ',\n",
       "    'credit': \"flickr/<a href='http://www.flickr.com/photos/23843757@N00/194521206/'>Amanda Benham</a>\",\n",
       "    'url': '//upload.wikimedia.org/wikipedia/commons/d/dd/ABC_-_Good_Morning_America_-_Diane_Sawyer.jpg'},\n",
       "   'start_date': {'year': '2002'},\n",
       "   'text': {'headline': 'Crack is Whack',\n",
       "    'text': '<p>Houston first publicly admitted to drug use in an interview with Diane Sawyer. The singer coined the term \"Crack is Whack,\" saying that she only used more expensive drugs.</p>'}},\n",
       "  {'media': {'caption': \"Addiction expert, Dr. Drew, talks about Whitney's death and her struggle with addiction.\",\n",
       "    'credit': 'CNN',\n",
       "    'url': 'https://youtu.be/KLk6mt8FMR0'},\n",
       "   'start_date': {'year': '2004'},\n",
       "   'text': {'headline': 'Rehab',\n",
       "    'text': '<p>Houston entered rehab several times beginning in 2004. She declared herself drug free in an interview with Oprah Winfrey in 2009 but returned to rehab in 2011.</p>'}},\n",
       "  {'media': {'caption': '', 'credit': '', 'url': ''},\n",
       "   'start_date': {'year': '2005'},\n",
       "   'text': {'headline': 'Being Bobby Brown',\n",
       "    'text': '<p>Being Bobby Brown was a reality show starring Brown and wife Whitney Houston. Houston refused to sign for a second season. A clip of her telling Brown to \"Kiss my ass,\" became a running gag on The Soup.</p>'}},\n",
       "  {'media': {'caption': '', 'credit': '', 'url': ''},\n",
       "   'start_date': {'year': '2010'},\n",
       "   'text': {'headline': 'A Rocky Comeback',\n",
       "    'text': \"<p>Houston's comeback tour is cut short due to a diminished voice damaged by years of smoking. She was reportedly devastated at her inability to perform like her old self.</p>\"}},\n",
       "  {'media': {'caption': 'Houston, performing on Good Morning America in 2009.',\n",
       "    'credit': \"<a href='http://commons.wikimedia.org/wiki/File%3AFlickr_Whitney_Houston_performing_on_GMA_2009_4.jpg'>Asterio Tecson</a> via Wikimedia\",\n",
       "    'url': '//twitter.com/Blavity/status/851872780949889024'},\n",
       "   'start_date': {'day': '11', 'month': '2', 'year': '2012'},\n",
       "   'text': {'headline': 'Whitney Houston<br/> 1963-2012',\n",
       "    'text': '<p>Houston, 48, was discovered dead at the Beverly Hilton Hotel on  on Feb. 11, 2012. She is survived by her daughter, Bobbi Kristina Brown, and mother, Cissy Houston.</p>'}}],\n",
       " 'title': {'media': {'caption': 'Whitney Houston performing on her My Love is Your Love Tour in Hamburg.',\n",
       "   'credit': \"flickr/<a href='http://www.flickr.com/photos/tm_10001/'>tm_10001</a>\",\n",
       "   'url': '//www.flickr.com/photos/tm_10001/2310475988/'},\n",
       "  'text': {'headline': 'Whitney Houston<br/> 1963 - 2012',\n",
       "   'text': \"<p>Houston's voice caught the imagination of the world propelling her to superstardom at an early age becoming one of the most awarded performers of our time. This is a look into the amazing heights she achieved and her personal struggles with substance abuse and a tumultuous marriage.</p>\"}}}"
      ]
     },
     "execution_count": 45,
     "metadata": {},
     "output_type": "execute_result"
    }
   ],
   "source": [
    "b"
   ]
  },
  {
   "cell_type": "markdown",
   "metadata": {},
   "source": [
    "### Accessing information\n",
    "The json module imports into a dictionary"
   ]
  },
  {
   "cell_type": "code",
   "execution_count": 42,
   "metadata": {},
   "outputs": [
    {
     "name": "stdout",
     "output_type": "stream",
     "text": [
      "title\n",
      "events\n"
     ]
    }
   ],
   "source": [
    "for j in b:\n",
    "    print(j)"
   ]
  },
  {
   "cell_type": "code",
   "execution_count": 43,
   "metadata": {},
   "outputs": [
    {
     "data": {
      "text/plain": [
       "{'media': {'caption': 'Whitney Houston performing on her My Love is Your Love Tour in Hamburg.',\n",
       "  'credit': \"flickr/<a href='http://www.flickr.com/photos/tm_10001/'>tm_10001</a>\",\n",
       "  'url': '//www.flickr.com/photos/tm_10001/2310475988/'},\n",
       " 'text': {'headline': 'Whitney Houston<br/> 1963 - 2012',\n",
       "  'text': \"<p>Houston's voice caught the imagination of the world propelling her to superstardom at an early age becoming one of the most awarded performers of our time. This is a look into the amazing heights she achieved and her personal struggles with substance abuse and a tumultuous marriage.</p>\"}}"
      ]
     },
     "execution_count": 43,
     "metadata": {},
     "output_type": "execute_result"
    }
   ],
   "source": [
    "b['title']"
   ]
  },
  {
   "cell_type": "code",
   "execution_count": 44,
   "metadata": {},
   "outputs": [
    {
     "data": {
      "text/plain": [
       "{'media': {'caption': \"Houston's mother and Gospel singer, Cissy Houston (left) and cousin Dionne Warwick.\",\n",
       "  'credit': \"Cissy Houston photo:<a href='http://www.flickr.com/photos/11447043@N00/418180903/'>Tom Marcello</a><br/><a href='http://commons.wikimedia.org/wiki/File%3ADionne_Warwick_television_special_1969.JPG'>Dionne Warwick: CBS Television via Wikimedia Commons</a>\",\n",
       "  'url': '{{ static_url }}/img/examples/houston/family.jpg'},\n",
       " 'start_date': {'day': '9', 'month': '8', 'year': '1963'},\n",
       " 'text': {'headline': 'A Musical Heritage',\n",
       "  'text': '<p>Born in New Jersey on August 9th, 1963, Houston grew up surrounded by the music business. Her mother is gospel singer Cissy Houston and her cousins are Dee Dee and Dionne Warwick.</p>'}}"
      ]
     },
     "execution_count": 44,
     "metadata": {},
     "output_type": "execute_result"
    }
   ],
   "source": [
    "b['events'][0]"
   ]
  },
  {
   "cell_type": "code",
   "execution_count": 47,
   "metadata": {},
   "outputs": [
    {
     "data": {
      "text/plain": [
       "{'caption': \"Houston's mother and Gospel singer, Cissy Houston (left) and cousin Dionne Warwick.\",\n",
       " 'credit': \"Cissy Houston photo:<a href='http://www.flickr.com/photos/11447043@N00/418180903/'>Tom Marcello</a><br/><a href='http://commons.wikimedia.org/wiki/File%3ADionne_Warwick_television_special_1969.JPG'>Dionne Warwick: CBS Television via Wikimedia Commons</a>\",\n",
       " 'url': '{{ static_url }}/img/examples/houston/family.jpg'}"
      ]
     },
     "execution_count": 47,
     "metadata": {},
     "output_type": "execute_result"
    }
   ],
   "source": [
    "b['events'][0]['media']"
   ]
  },
  {
   "cell_type": "code",
   "execution_count": 48,
   "metadata": {},
   "outputs": [
    {
     "data": {
      "text/plain": [
       "\"Houston's mother and Gospel singer, Cissy Houston (left) and cousin Dionne Warwick.\""
      ]
     },
     "execution_count": 48,
     "metadata": {},
     "output_type": "execute_result"
    }
   ],
   "source": [
    "b['events'][0]['media']['caption']"
   ]
  },
  {
   "cell_type": "markdown",
   "metadata": {},
   "source": [
    "### Aha!\n",
    "Ok great. Let's create a dictionary and export it to json then.\n",
    "\n",
    "Exporting is easy"
   ]
  },
  {
   "cell_type": "code",
   "execution_count": 53,
   "metadata": {},
   "outputs": [],
   "source": [
    "with open('result.json', 'w') as f:\n",
    "    json.dump(b, f)"
   ]
  },
  {
   "cell_type": "markdown",
   "metadata": {},
   "source": [
    "open result.json in an editor and copy/paste into this variable\n",
    "```\n",
    "var timeline_json = \n",
    "```\n",
    "And it should work. \n",
    "\n",
    "Now, how to construct this dictionary?\n"
   ]
  },
  {
   "cell_type": "code",
   "execution_count": 55,
   "metadata": {},
   "outputs": [],
   "source": [
    "title={'media': {'caption': 'Whitney Houston performing on her My Love is Your Love Tour in Hamburg.',\n",
    "  'credit': \"flickr/<a href='http://www.flickr.com/photos/tm_10001/'>tm_10001</a>\",\n",
    "  'url': '//www.flickr.com/photos/tm_10001/2310475988/'},\n",
    " 'text': {'headline': 'Whitney Houston<br/> 1963 - 2012',\n",
    "  'text': \"<p>Houston's voice caught the imagination of the world propelling her to superstardom at an early age becoming one of the most awarded performers of our time. This is a look into the amazing heights she achieved and her personal struggles with substance abuse and a tumultuous marriage.</p>\"}\n",
    "}"
   ]
  },
  {
   "cell_type": "code",
   "execution_count": 64,
   "metadata": {},
   "outputs": [
    {
     "data": {
      "text/plain": [
       "{'media': {'caption': \"Houston's mother and Gospel singer, Cissy Houston (left) and cousin Dionne Warwick.\",\n",
       "  'credit': \"Cissy Houston photo:<a href='http://www.flickr.com/photos/11447043@N00/418180903/'>Tom Marcello</a><br/><a href='http://commons.wikimedia.org/wiki/File%3ADionne_Warwick_television_special_1969.JPG'>Dionne Warwick: CBS Television via Wikimedia Commons</a>\",\n",
       "  'url': '{{ static_url }}/img/examples/houston/family.jpg'},\n",
       " 'start_date': {'day': '9', 'month': '8', 'year': '1963'},\n",
       " 'text': {'headline': 'A Musical Heritage',\n",
       "  'text': '<p>Born in New Jersey on August 9th, 1963, Houston grew up surrounded by the music business. Her mother is gospel singer Cissy Houston and her cousins are Dee Dee and Dionne Warwick.</p>'}}"
      ]
     },
     "execution_count": 64,
     "metadata": {},
     "output_type": "execute_result"
    }
   ],
   "source": [
    "event0=b['events'][0]\n",
    "event0"
   ]
  },
  {
   "cell_type": "code",
   "execution_count": 65,
   "metadata": {},
   "outputs": [],
   "source": [
    "event1=b['events'][1]\n",
    "events=[event0,event1]"
   ]
  },
  {
   "cell_type": "code",
   "execution_count": 68,
   "metadata": {},
   "outputs": [],
   "source": [
    "c={'title':title,'events':events}\n",
    "with open('result_c.json', 'w') as f:\n",
    "    json.dump(c, f)"
   ]
  },
  {
   "cell_type": "code",
   "execution_count": 69,
   "metadata": {},
   "outputs": [],
   "source": [
    "import json\n",
    "\n",
    "# A minimal timeline\n",
    "\n",
    "# Events are \"Slide Objects\"\n",
    "event0={'start_date': {'day': '1', 'month': '10', 'year': '2017'},\n",
    "        'text': {'headline': 'Aziz Codes',\n",
    "        'text': '<p>Started a new project.</p>'}, 'media': {'url': 'salem.jpeg','caption':'The name of it was Revenge for Kulaib'}\n",
    "       }\n",
    "\n",
    "event1={'start_date': {'day': '1', 'month': '11', 'year': '2017'},\n",
    "        'text': {'headline': 'Aziz Codes Develops',\n",
    "        'text': '<p>his new project is under progress</p>'}}\n",
    "\n",
    "event2={'start_date': {'day': '1', 'month': '12', 'year': '2017'},\n",
    "        'text': {'headline': 'Aziz Codes is Done',\n",
    "        'text': '<p>His project accomplished its goals.</p>'}, 'media': {'url': 'salem.jpeg','caption':'The name of it was Revenge for Kulaib'}}\n",
    "\n",
    "\n",
    "events=[event0,event1,event2]\n",
    "\n",
    "# The TimelineJS JSON format consists of a single JSON object with the following properties: \n",
    "# events (required), era, title, scale\n",
    "d={'events':events} \n",
    "with open('result_d.json', 'w') as f:\n",
    "    json.dump(d, f)"
   ]
  }
 ],
 "metadata": {
  "kernelspec": {
   "display_name": "Python 3",
   "language": "python",
   "name": "python3"
  },
  "language_info": {
   "codemirror_mode": {
    "name": "ipython",
    "version": 3
   },
   "file_extension": ".py",
   "mimetype": "text/x-python",
   "name": "python",
   "nbconvert_exporter": "python",
   "pygments_lexer": "ipython3",
   "version": "3.6.4"
  }
 },
 "nbformat": 4,
 "nbformat_minor": 2
}
